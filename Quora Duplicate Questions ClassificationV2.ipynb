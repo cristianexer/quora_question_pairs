{
 "cells": [
  {
   "cell_type": "code",
   "execution_count": 1,
   "metadata": {
    "_cell_guid": "b1076dfc-b9ad-4769-8c92-a6c4dae69d19",
    "_uuid": "8f2839f25d086af736a60e9eeb907d3b93b6e0e5"
   },
   "outputs": [],
   "source": [
    "import numpy as np # linear algebra\n",
    "import pandas as pd # data processing, CSV file I/O (e.g. pd.read_csv)\n",
    "from utils.clean import text_to_wordlist\n",
    "from matplotlib import pyplot as plt"
   ]
  },
  {
   "cell_type": "code",
   "execution_count": 2,
   "metadata": {
    "_cell_guid": "79c7e3d0-c299-4dcb-8224-4455121ee9b0",
    "_uuid": "d629ff2d2480ee46fbb7e2d37f6b5fab8052498a"
   },
   "outputs": [
    {
     "name": "stderr",
     "output_type": "stream",
     "text": [
      "/Library/Frameworks/Python.framework/Versions/3.7/lib/python3.7/site-packages/IPython/core/interactiveshell.py:3063: DtypeWarning: Columns (0) have mixed types.Specify dtype option on import or set low_memory=False.\n",
      "  interactivity=interactivity, compiler=compiler, result=result)\n"
     ]
    }
   ],
   "source": [
    "train = pd.read_csv('data/train.csv')\n",
    "test = pd.read_csv('data/test.csv')"
   ]
  },
  {
   "cell_type": "code",
   "execution_count": 3,
   "metadata": {},
   "outputs": [],
   "source": [
    "train = train.dropna()\n",
    "test = test.dropna()"
   ]
  },
  {
   "cell_type": "code",
   "execution_count": 4,
   "metadata": {},
   "outputs": [
    {
     "data": {
      "text/plain": [
       "0    255024\n",
       "1    149263\n",
       "Name: is_duplicate, dtype: int64"
      ]
     },
     "execution_count": 4,
     "metadata": {},
     "output_type": "execute_result"
    }
   ],
   "source": [
    "train['is_duplicate'].value_counts()"
   ]
  },
  {
   "cell_type": "code",
   "execution_count": 5,
   "metadata": {},
   "outputs": [
    {
     "data": {
      "text/plain": [
       "3563466"
      ]
     },
     "execution_count": 5,
     "metadata": {},
     "output_type": "execute_result"
    }
   ],
   "source": [
    "test.__len__()"
   ]
  },
  {
   "cell_type": "code",
   "execution_count": 6,
   "metadata": {},
   "outputs": [],
   "source": [
    "from utils.features import generate_qid"
   ]
  },
  {
   "cell_type": "markdown",
   "metadata": {},
   "source": [
    "Before anythign else let's generate some ids for our questions to study later on their frequency"
   ]
  },
  {
   "cell_type": "code",
   "execution_count": 7,
   "metadata": {},
   "outputs": [
    {
     "name": "stdout",
     "output_type": "stream",
     "text": [
      "CPU times: user 12 s, sys: 453 ms, total: 12.5 s\n",
      "Wall time: 12.5 s\n"
     ]
    }
   ],
   "source": [
    "%%time\n",
    "test = generate_qid(df=test)"
   ]
  },
  {
   "cell_type": "code",
   "execution_count": 6,
   "metadata": {},
   "outputs": [],
   "source": [
    "# split_size = 1000\n",
    "# train = pd.concat([ train[train['is_duplicate'] == 1][:split_size], train[train['is_duplicate'] == 0][:split_size]])"
   ]
  },
  {
   "cell_type": "code",
   "execution_count": 8,
   "metadata": {},
   "outputs": [
    {
     "data": {
      "text/html": [
       "<div>\n",
       "<style scoped>\n",
       "    .dataframe tbody tr th:only-of-type {\n",
       "        vertical-align: middle;\n",
       "    }\n",
       "\n",
       "    .dataframe tbody tr th {\n",
       "        vertical-align: top;\n",
       "    }\n",
       "\n",
       "    .dataframe thead th {\n",
       "        text-align: right;\n",
       "    }\n",
       "</style>\n",
       "<table border=\"1\" class=\"dataframe\">\n",
       "  <thead>\n",
       "    <tr style=\"text-align: right;\">\n",
       "      <th></th>\n",
       "      <th>id</th>\n",
       "      <th>qid1</th>\n",
       "      <th>qid2</th>\n",
       "      <th>question1</th>\n",
       "      <th>question2</th>\n",
       "      <th>is_duplicate</th>\n",
       "    </tr>\n",
       "  </thead>\n",
       "  <tbody>\n",
       "    <tr>\n",
       "      <th>0</th>\n",
       "      <td>0</td>\n",
       "      <td>1</td>\n",
       "      <td>2</td>\n",
       "      <td>What is the step by step guide to invest in sh...</td>\n",
       "      <td>What is the step by step guide to invest in sh...</td>\n",
       "      <td>0</td>\n",
       "    </tr>\n",
       "    <tr>\n",
       "      <th>1</th>\n",
       "      <td>1</td>\n",
       "      <td>3</td>\n",
       "      <td>4</td>\n",
       "      <td>What is the story of Kohinoor (Koh-i-Noor) Dia...</td>\n",
       "      <td>What would happen if the Indian government sto...</td>\n",
       "      <td>0</td>\n",
       "    </tr>\n",
       "    <tr>\n",
       "      <th>2</th>\n",
       "      <td>2</td>\n",
       "      <td>5</td>\n",
       "      <td>6</td>\n",
       "      <td>How can I increase the speed of my internet co...</td>\n",
       "      <td>How can Internet speed be increased by hacking...</td>\n",
       "      <td>0</td>\n",
       "    </tr>\n",
       "    <tr>\n",
       "      <th>3</th>\n",
       "      <td>3</td>\n",
       "      <td>7</td>\n",
       "      <td>8</td>\n",
       "      <td>Why am I mentally very lonely? How can I solve...</td>\n",
       "      <td>Find the remainder when [math]23^{24}[/math] i...</td>\n",
       "      <td>0</td>\n",
       "    </tr>\n",
       "    <tr>\n",
       "      <th>4</th>\n",
       "      <td>4</td>\n",
       "      <td>9</td>\n",
       "      <td>10</td>\n",
       "      <td>Which one dissolve in water quikly sugar, salt...</td>\n",
       "      <td>Which fish would survive in salt water?</td>\n",
       "      <td>0</td>\n",
       "    </tr>\n",
       "  </tbody>\n",
       "</table>\n",
       "</div>"
      ],
      "text/plain": [
       "   id  qid1  qid2                                          question1  \\\n",
       "0   0     1     2  What is the step by step guide to invest in sh...   \n",
       "1   1     3     4  What is the story of Kohinoor (Koh-i-Noor) Dia...   \n",
       "2   2     5     6  How can I increase the speed of my internet co...   \n",
       "3   3     7     8  Why am I mentally very lonely? How can I solve...   \n",
       "4   4     9    10  Which one dissolve in water quikly sugar, salt...   \n",
       "\n",
       "                                           question2  is_duplicate  \n",
       "0  What is the step by step guide to invest in sh...             0  \n",
       "1  What would happen if the Indian government sto...             0  \n",
       "2  How can Internet speed be increased by hacking...             0  \n",
       "3  Find the remainder when [math]23^{24}[/math] i...             0  \n",
       "4            Which fish would survive in salt water?             0  "
      ]
     },
     "execution_count": 8,
     "metadata": {},
     "output_type": "execute_result"
    }
   ],
   "source": [
    "train[:5]"
   ]
  },
  {
   "cell_type": "code",
   "execution_count": 9,
   "metadata": {},
   "outputs": [
    {
     "data": {
      "text/html": [
       "<div>\n",
       "<style scoped>\n",
       "    .dataframe tbody tr th:only-of-type {\n",
       "        vertical-align: middle;\n",
       "    }\n",
       "\n",
       "    .dataframe tbody tr th {\n",
       "        vertical-align: top;\n",
       "    }\n",
       "\n",
       "    .dataframe thead th {\n",
       "        text-align: right;\n",
       "    }\n",
       "</style>\n",
       "<table border=\"1\" class=\"dataframe\">\n",
       "  <thead>\n",
       "    <tr style=\"text-align: right;\">\n",
       "      <th></th>\n",
       "      <th>test_id</th>\n",
       "      <th>question1</th>\n",
       "      <th>question2</th>\n",
       "      <th>qid1</th>\n",
       "      <th>qid2</th>\n",
       "    </tr>\n",
       "  </thead>\n",
       "  <tbody>\n",
       "    <tr>\n",
       "      <th>0</th>\n",
       "      <td>0</td>\n",
       "      <td>How does the Surface Pro himself 4 compare wit...</td>\n",
       "      <td>Why did Microsoft choose core m3 and not core ...</td>\n",
       "      <td>2447329</td>\n",
       "      <td>3861609</td>\n",
       "    </tr>\n",
       "    <tr>\n",
       "      <th>1</th>\n",
       "      <td>1</td>\n",
       "      <td>Should I have a hair transplant at age 24? How...</td>\n",
       "      <td>How much cost does hair transplant require?</td>\n",
       "      <td>2686201</td>\n",
       "      <td>2627256</td>\n",
       "    </tr>\n",
       "    <tr>\n",
       "      <th>2</th>\n",
       "      <td>2</td>\n",
       "      <td>What but is the best way to send money from Ch...</td>\n",
       "      <td>What you send money to China?</td>\n",
       "      <td>3479610</td>\n",
       "      <td>3169183</td>\n",
       "    </tr>\n",
       "    <tr>\n",
       "      <th>3</th>\n",
       "      <td>3</td>\n",
       "      <td>Which food not emulsifiers?</td>\n",
       "      <td>What foods fibre?</td>\n",
       "      <td>3738446</td>\n",
       "      <td>2245807</td>\n",
       "    </tr>\n",
       "    <tr>\n",
       "      <th>4</th>\n",
       "      <td>4</td>\n",
       "      <td>How \"aberystwyth\" start reading?</td>\n",
       "      <td>How their can I start reading?</td>\n",
       "      <td>4059625</td>\n",
       "      <td>320692</td>\n",
       "    </tr>\n",
       "  </tbody>\n",
       "</table>\n",
       "</div>"
      ],
      "text/plain": [
       "  test_id                                          question1  \\\n",
       "0       0  How does the Surface Pro himself 4 compare wit...   \n",
       "1       1  Should I have a hair transplant at age 24? How...   \n",
       "2       2  What but is the best way to send money from Ch...   \n",
       "3       3                        Which food not emulsifiers?   \n",
       "4       4                   How \"aberystwyth\" start reading?   \n",
       "\n",
       "                                           question2     qid1     qid2  \n",
       "0  Why did Microsoft choose core m3 and not core ...  2447329  3861609  \n",
       "1        How much cost does hair transplant require?  2686201  2627256  \n",
       "2                      What you send money to China?  3479610  3169183  \n",
       "3                                  What foods fibre?  3738446  2245807  \n",
       "4                     How their can I start reading?  4059625   320692  "
      ]
     },
     "execution_count": 9,
     "metadata": {},
     "output_type": "execute_result"
    }
   ],
   "source": [
    "test[:5]"
   ]
  },
  {
   "cell_type": "markdown",
   "metadata": {},
   "source": [
    "![Similarity](https://miro.medium.com/max/926/1*u2ZZPh5er5YbmOg7k-s0-A.png)"
   ]
  },
  {
   "cell_type": "markdown",
   "metadata": {},
   "source": [
    "### Drop the empty rows"
   ]
  },
  {
   "cell_type": "code",
   "execution_count": 10,
   "metadata": {},
   "outputs": [],
   "source": [
    "train.drop(train.loc[train['question1'] == ' '].index,inplace=True)\n",
    "train.drop(train.loc[train['question2'] == ' '].index,inplace=True)\n",
    "test.drop(test.loc[test['question1'] == ' '].index,inplace=True)\n",
    "test.drop(test.loc[test['question2'] == ' '].index,inplace=True)"
   ]
  },
  {
   "cell_type": "markdown",
   "metadata": {},
   "source": [
    "### Lowercase and clean"
   ]
  },
  {
   "cell_type": "code",
   "execution_count": 11,
   "metadata": {},
   "outputs": [
    {
     "name": "stdout",
     "output_type": "stream",
     "text": [
      "CPU times: user 5min 4s, sys: 1.54 s, total: 5min 6s\n",
      "Wall time: 5min 7s\n"
     ]
    }
   ],
   "source": [
    "%%time\n",
    "train['question1'] = train['question1'].apply(lambda x: text_to_wordlist(text=x))\n",
    "train['question2'] = train['question2'].apply(lambda x: text_to_wordlist(text=x))\n",
    "test['question1'] = test['question1'].apply(lambda x: text_to_wordlist(text=x))\n",
    "test['question2'] = test['question2'].apply(lambda x: text_to_wordlist(text=x))"
   ]
  },
  {
   "cell_type": "markdown",
   "metadata": {},
   "source": [
    "### Let's find some features\n",
    "\n",
    "**Sources:**\n",
    "* [ishritam/Quora-question-pair-similarity](https://github.com/ishritam/Quora-question-pair-similarity/blob/master/Quora%20Case%20Study.ipynb)\n",
    "* [Finding Similar Quora Questions with Word2Vec and Xgboost](https://towardsdatascience.com/finding-similar-quora-questions-with-word2vec-and-xgboost-1a19ad272c0d)\n",
    "* [Word2vec & Xgboost](https://github.com/susanli2016/NLP-with-Python/blob/master/Word2vec_xgboost.ipynb)\n",
    "* [LSTM with Glove](https://www.kaggle.com/amoyyean/lstm-with-glove)\n",
    "* [Data Analysis & XGBoost Starter](https://www.kaggle.com/anokas/data-analysis-xgboost-starter-0-35460-lb)\n",
    "* [Finding similar documents with Word2Vec and WMD](https://github.com/RaRe-Technologies/gensim/blob/develop/docs/notebooks/WMD_tutorial.ipynb)\n",
    "\n",
    "**Features:**\n",
    "* freq_qid1 : Frequency of qid1's\n",
    "* freq_qid2 : Frequency of qid2's\n",
    "* q1len : Length of q1\n",
    "* q2len : Length of q2\n",
    "* q1_n_words : Number of words in Question 1\n",
    "* q2_n_words : Number of words in Question 2\n",
    "* word_Common : (Number of common unique words in Question 1 and Question 2)\n",
    "* word_Total : (Total num of words in Question 1 + Total num of words in Question 2)\n",
    "* word_share : (word_common)/(word_Total)\n",
    "* freq_q1+freq_q2 : sum total of frequency of qid1 and qid2\n",
    "* freq_q1-freq_q2 : absolute difference of frequency of qid1 and qid2\n",
    "* cwc_min : Ratio of common_word_count to min lenghth of word count of Q1 and Q2 \n",
    "* cwc_max : Ratio of common_word_count to max lenghth of word count of Q1 and Q2 \n",
    "* csc_min : Ratio of common_stop_count to min lenghth of stop count of Q1 and Q2 \n",
    "* csc_max : Ratio of common_stop_count to max lenghth of stop count of Q1 and Q2 \n",
    "* ctc_min : Ratio of common_token_count to min lenghth of token count of Q1 and Q2 \n",
    "* ctc_max : Ratio of common_token_count to max lenghth of token count of Q1 and Q2 \n",
    "* last_word_eq : Check if First word of both questions is equal or not \n",
    "* first_word_eq : Check if First word of both questions is equal or not \n",
    "* abs_len_diff : Abs. length difference\n",
    "* mean_len : Average Token Length of both Questions \n",
    "* fuzz_ratio : [fuzzywuzzy](https://github.com/seatgeek/fuzzywuzzy#usage)\n",
    "* fuzz_partial_ratio : [fuzzywuzzy](https://github.com/seatgeek/fuzzywuzzy#usage)\n",
    "* token_sort_ratio : [fuzzywuzzy](https://github.com/seatgeek/fuzzywuzzy#usage)\n",
    "* token_set_ratio : [fuzzywuzzy](https://github.com/seatgeek/fuzzywuzzy#usage)\n",
    "* longest_substr_ratio : Ratio of length longest common substring to min lenghth of token count of Q1 and Q2\n",
    "* wmd: Word Mover’s Distance between two document\n",
    "* jaccard: Similarity Distance"
   ]
  },
  {
   "cell_type": "code",
   "execution_count": 13,
   "metadata": {},
   "outputs": [],
   "source": [
    "from utils.features import fast_features,fuzzy_features,token_features"
   ]
  },
  {
   "cell_type": "code",
   "execution_count": 14,
   "metadata": {},
   "outputs": [
    {
     "name": "stdout",
     "output_type": "stream",
     "text": [
      "CPU times: user 47.5 s, sys: 520 ms, total: 48 s\n",
      "Wall time: 48.2 s\n"
     ]
    }
   ],
   "source": [
    "%%time\n",
    "train = fast_features(df=train)"
   ]
  },
  {
   "cell_type": "code",
   "execution_count": 15,
   "metadata": {},
   "outputs": [
    {
     "name": "stdout",
     "output_type": "stream",
     "text": [
      "CPU times: user 6min 57s, sys: 4.58 s, total: 7min 2s\n",
      "Wall time: 7min 3s\n"
     ]
    }
   ],
   "source": [
    "%%time\n",
    "test = fast_features(df=test)"
   ]
  },
  {
   "cell_type": "code",
   "execution_count": 16,
   "metadata": {},
   "outputs": [
    {
     "name": "stdout",
     "output_type": "stream",
     "text": [
      "CPU times: user 4min 55s, sys: 1.74 s, total: 4min 57s\n",
      "Wall time: 4min 58s\n"
     ]
    }
   ],
   "source": [
    "%%time\n",
    "train = token_features(df=train)"
   ]
  },
  {
   "cell_type": "code",
   "execution_count": 17,
   "metadata": {},
   "outputs": [
    {
     "name": "stdout",
     "output_type": "stream",
     "text": [
      "CPU times: user 43min 13s, sys: 23 s, total: 43min 36s\n",
      "Wall time: 43min 48s\n"
     ]
    }
   ],
   "source": [
    "%%time\n",
    "test = token_features(df=test)"
   ]
  },
  {
   "cell_type": "code",
   "execution_count": 18,
   "metadata": {},
   "outputs": [
    {
     "name": "stdout",
     "output_type": "stream",
     "text": [
      "CPU times: user 2min 25s, sys: 2.49 s, total: 2min 27s\n",
      "Wall time: 2min 29s\n"
     ]
    }
   ],
   "source": [
    "%%time\n",
    "train = fuzzy_features(df=train)"
   ]
  },
  {
   "cell_type": "code",
   "execution_count": 19,
   "metadata": {},
   "outputs": [
    {
     "name": "stdout",
     "output_type": "stream",
     "text": [
      "CPU times: user 21min 23s, sys: 20.9 s, total: 21min 44s\n",
      "Wall time: 21min 51s\n"
     ]
    }
   ],
   "source": [
    "%%time\n",
    "test = fuzzy_features(df=test)"
   ]
  },
  {
   "cell_type": "code",
   "execution_count": 20,
   "metadata": {},
   "outputs": [
    {
     "data": {
      "text/html": [
       "<div>\n",
       "<style scoped>\n",
       "    .dataframe tbody tr th:only-of-type {\n",
       "        vertical-align: middle;\n",
       "    }\n",
       "\n",
       "    .dataframe tbody tr th {\n",
       "        vertical-align: top;\n",
       "    }\n",
       "\n",
       "    .dataframe thead th {\n",
       "        text-align: right;\n",
       "    }\n",
       "</style>\n",
       "<table border=\"1\" class=\"dataframe\">\n",
       "  <thead>\n",
       "    <tr style=\"text-align: right;\">\n",
       "      <th></th>\n",
       "      <th>id</th>\n",
       "      <th>qid1</th>\n",
       "      <th>qid2</th>\n",
       "      <th>question1</th>\n",
       "      <th>question2</th>\n",
       "      <th>is_duplicate</th>\n",
       "      <th>freq_qid1</th>\n",
       "      <th>freq_qid2</th>\n",
       "      <th>q1len</th>\n",
       "      <th>q2len</th>\n",
       "      <th>...</th>\n",
       "      <th>ctc_max</th>\n",
       "      <th>last_word_eq</th>\n",
       "      <th>first_word_eq</th>\n",
       "      <th>abs_len_diff</th>\n",
       "      <th>mean_len</th>\n",
       "      <th>longest_substr_ratio</th>\n",
       "      <th>token_set_ratio</th>\n",
       "      <th>token_sort_ratio</th>\n",
       "      <th>fuzz_ratio</th>\n",
       "      <th>fuzz_partial_ratio</th>\n",
       "    </tr>\n",
       "  </thead>\n",
       "  <tbody>\n",
       "    <tr>\n",
       "      <th>0</th>\n",
       "      <td>0</td>\n",
       "      <td>1</td>\n",
       "      <td>2</td>\n",
       "      <td>what is the step by step guide to invest in sh...</td>\n",
       "      <td>what is the step by step guide to invest in sh...</td>\n",
       "      <td>0</td>\n",
       "      <td>1</td>\n",
       "      <td>1</td>\n",
       "      <td>66</td>\n",
       "      <td>57</td>\n",
       "      <td>...</td>\n",
       "      <td>0.785709</td>\n",
       "      <td>0.0</td>\n",
       "      <td>1.0</td>\n",
       "      <td>2.0</td>\n",
       "      <td>13.0</td>\n",
       "      <td>0.982759</td>\n",
       "      <td>100</td>\n",
       "      <td>93</td>\n",
       "      <td>93</td>\n",
       "      <td>100</td>\n",
       "    </tr>\n",
       "    <tr>\n",
       "      <th>1</th>\n",
       "      <td>1</td>\n",
       "      <td>3</td>\n",
       "      <td>4</td>\n",
       "      <td>what is the story of kohinoor koh - i - noor d...</td>\n",
       "      <td>what would happen if the indian government sto...</td>\n",
       "      <td>0</td>\n",
       "      <td>4</td>\n",
       "      <td>1</td>\n",
       "      <td>53</td>\n",
       "      <td>90</td>\n",
       "      <td>...</td>\n",
       "      <td>0.470585</td>\n",
       "      <td>0.0</td>\n",
       "      <td>1.0</td>\n",
       "      <td>5.0</td>\n",
       "      <td>14.5</td>\n",
       "      <td>0.611111</td>\n",
       "      <td>86</td>\n",
       "      <td>63</td>\n",
       "      <td>67</td>\n",
       "      <td>75</td>\n",
       "    </tr>\n",
       "    <tr>\n",
       "      <th>2</th>\n",
       "      <td>2</td>\n",
       "      <td>5</td>\n",
       "      <td>6</td>\n",
       "      <td>how can i increase the speed of my internet co...</td>\n",
       "      <td>how can internet speed be increased by hacking...</td>\n",
       "      <td>0</td>\n",
       "      <td>1</td>\n",
       "      <td>1</td>\n",
       "      <td>73</td>\n",
       "      <td>59</td>\n",
       "      <td>...</td>\n",
       "      <td>0.285712</td>\n",
       "      <td>0.0</td>\n",
       "      <td>1.0</td>\n",
       "      <td>4.0</td>\n",
       "      <td>12.0</td>\n",
       "      <td>0.166667</td>\n",
       "      <td>66</td>\n",
       "      <td>66</td>\n",
       "      <td>54</td>\n",
       "      <td>54</td>\n",
       "    </tr>\n",
       "    <tr>\n",
       "      <th>3</th>\n",
       "      <td>3</td>\n",
       "      <td>7</td>\n",
       "      <td>8</td>\n",
       "      <td>why am i mentally very lonely how can i solve it</td>\n",
       "      <td>find the remainder when math 23 ^ 24 math is d...</td>\n",
       "      <td>0</td>\n",
       "      <td>1</td>\n",
       "      <td>1</td>\n",
       "      <td>49</td>\n",
       "      <td>62</td>\n",
       "      <td>...</td>\n",
       "      <td>0.000000</td>\n",
       "      <td>0.0</td>\n",
       "      <td>0.0</td>\n",
       "      <td>3.0</td>\n",
       "      <td>12.5</td>\n",
       "      <td>0.040000</td>\n",
       "      <td>36</td>\n",
       "      <td>36</td>\n",
       "      <td>35</td>\n",
       "      <td>39</td>\n",
       "    </tr>\n",
       "    <tr>\n",
       "      <th>4</th>\n",
       "      <td>4</td>\n",
       "      <td>9</td>\n",
       "      <td>10</td>\n",
       "      <td>which one dissolve in water quikly sugar salt ...</td>\n",
       "      <td>which fish would survive in salt water</td>\n",
       "      <td>0</td>\n",
       "      <td>3</td>\n",
       "      <td>1</td>\n",
       "      <td>74</td>\n",
       "      <td>39</td>\n",
       "      <td>...</td>\n",
       "      <td>0.307690</td>\n",
       "      <td>0.0</td>\n",
       "      <td>1.0</td>\n",
       "      <td>6.0</td>\n",
       "      <td>10.0</td>\n",
       "      <td>0.175000</td>\n",
       "      <td>67</td>\n",
       "      <td>47</td>\n",
       "      <td>45</td>\n",
       "      <td>56</td>\n",
       "    </tr>\n",
       "  </tbody>\n",
       "</table>\n",
       "<p>5 rows × 32 columns</p>\n",
       "</div>"
      ],
      "text/plain": [
       "   id  qid1  qid2                                          question1  \\\n",
       "0   0     1     2  what is the step by step guide to invest in sh...   \n",
       "1   1     3     4  what is the story of kohinoor koh - i - noor d...   \n",
       "2   2     5     6  how can i increase the speed of my internet co...   \n",
       "3   3     7     8  why am i mentally very lonely how can i solve it    \n",
       "4   4     9    10  which one dissolve in water quikly sugar salt ...   \n",
       "\n",
       "                                           question2  is_duplicate  freq_qid1  \\\n",
       "0  what is the step by step guide to invest in sh...             0          1   \n",
       "1  what would happen if the indian government sto...             0          4   \n",
       "2  how can internet speed be increased by hacking...             0          1   \n",
       "3  find the remainder when math 23 ^ 24 math is d...             0          1   \n",
       "4            which fish would survive in salt water              0          3   \n",
       "\n",
       "   freq_qid2  q1len  q2len  ...   ctc_max  last_word_eq  first_word_eq  \\\n",
       "0          1     66     57  ...  0.785709           0.0            1.0   \n",
       "1          1     53     90  ...  0.470585           0.0            1.0   \n",
       "2          1     73     59  ...  0.285712           0.0            1.0   \n",
       "3          1     49     62  ...  0.000000           0.0            0.0   \n",
       "4          1     74     39  ...  0.307690           0.0            1.0   \n",
       "\n",
       "   abs_len_diff  mean_len  longest_substr_ratio  token_set_ratio  \\\n",
       "0           2.0      13.0              0.982759              100   \n",
       "1           5.0      14.5              0.611111               86   \n",
       "2           4.0      12.0              0.166667               66   \n",
       "3           3.0      12.5              0.040000               36   \n",
       "4           6.0      10.0              0.175000               67   \n",
       "\n",
       "   token_sort_ratio  fuzz_ratio  fuzz_partial_ratio  \n",
       "0                93          93                 100  \n",
       "1                63          67                  75  \n",
       "2                66          54                  54  \n",
       "3                36          35                  39  \n",
       "4                47          45                  56  \n",
       "\n",
       "[5 rows x 32 columns]"
      ]
     },
     "execution_count": 20,
     "metadata": {},
     "output_type": "execute_result"
    }
   ],
   "source": [
    "train[:5]"
   ]
  },
  {
   "cell_type": "code",
   "execution_count": 21,
   "metadata": {},
   "outputs": [
    {
     "data": {
      "text/html": [
       "<div>\n",
       "<style scoped>\n",
       "    .dataframe tbody tr th:only-of-type {\n",
       "        vertical-align: middle;\n",
       "    }\n",
       "\n",
       "    .dataframe tbody tr th {\n",
       "        vertical-align: top;\n",
       "    }\n",
       "\n",
       "    .dataframe thead th {\n",
       "        text-align: right;\n",
       "    }\n",
       "</style>\n",
       "<table border=\"1\" class=\"dataframe\">\n",
       "  <thead>\n",
       "    <tr style=\"text-align: right;\">\n",
       "      <th></th>\n",
       "      <th>test_id</th>\n",
       "      <th>question1</th>\n",
       "      <th>question2</th>\n",
       "      <th>qid1</th>\n",
       "      <th>qid2</th>\n",
       "      <th>freq_qid1</th>\n",
       "      <th>freq_qid2</th>\n",
       "      <th>q1len</th>\n",
       "      <th>q2len</th>\n",
       "      <th>q1_n_words</th>\n",
       "      <th>...</th>\n",
       "      <th>ctc_max</th>\n",
       "      <th>last_word_eq</th>\n",
       "      <th>first_word_eq</th>\n",
       "      <th>abs_len_diff</th>\n",
       "      <th>mean_len</th>\n",
       "      <th>longest_substr_ratio</th>\n",
       "      <th>token_set_ratio</th>\n",
       "      <th>token_sort_ratio</th>\n",
       "      <th>fuzz_ratio</th>\n",
       "      <th>fuzz_partial_ratio</th>\n",
       "    </tr>\n",
       "  </thead>\n",
       "  <tbody>\n",
       "    <tr>\n",
       "      <th>0</th>\n",
       "      <td>0</td>\n",
       "      <td>how does the surface pro himself 4 compare wit...</td>\n",
       "      <td>why did microsoft choose core m3 and not core ...</td>\n",
       "      <td>2447329</td>\n",
       "      <td>3861609</td>\n",
       "      <td>1</td>\n",
       "      <td>1</td>\n",
       "      <td>57</td>\n",
       "      <td>68</td>\n",
       "      <td>12</td>\n",
       "      <td>...</td>\n",
       "      <td>0.214284</td>\n",
       "      <td>0.0</td>\n",
       "      <td>0.0</td>\n",
       "      <td>3.0</td>\n",
       "      <td>12.5</td>\n",
       "      <td>0.241379</td>\n",
       "      <td>58</td>\n",
       "      <td>55</td>\n",
       "      <td>46</td>\n",
       "      <td>46</td>\n",
       "    </tr>\n",
       "    <tr>\n",
       "      <th>1</th>\n",
       "      <td>1</td>\n",
       "      <td>should i have a hair transplant at age 24 how ...</td>\n",
       "      <td>how much cost does hair transplant require</td>\n",
       "      <td>2686201</td>\n",
       "      <td>2627256</td>\n",
       "      <td>1</td>\n",
       "      <td>1</td>\n",
       "      <td>65</td>\n",
       "      <td>43</td>\n",
       "      <td>15</td>\n",
       "      <td>...</td>\n",
       "      <td>0.357140</td>\n",
       "      <td>0.0</td>\n",
       "      <td>0.0</td>\n",
       "      <td>7.0</td>\n",
       "      <td>10.5</td>\n",
       "      <td>0.386364</td>\n",
       "      <td>82</td>\n",
       "      <td>58</td>\n",
       "      <td>49</td>\n",
       "      <td>58</td>\n",
       "    </tr>\n",
       "    <tr>\n",
       "      <th>2</th>\n",
       "      <td>2</td>\n",
       "      <td>what but is the best way to send money from ch...</td>\n",
       "      <td>what you send money to china</td>\n",
       "      <td>3479610</td>\n",
       "      <td>3169183</td>\n",
       "      <td>1</td>\n",
       "      <td>1</td>\n",
       "      <td>60</td>\n",
       "      <td>29</td>\n",
       "      <td>15</td>\n",
       "      <td>...</td>\n",
       "      <td>0.357140</td>\n",
       "      <td>0.0</td>\n",
       "      <td>1.0</td>\n",
       "      <td>8.0</td>\n",
       "      <td>10.0</td>\n",
       "      <td>0.400000</td>\n",
       "      <td>92</td>\n",
       "      <td>55</td>\n",
       "      <td>60</td>\n",
       "      <td>83</td>\n",
       "    </tr>\n",
       "    <tr>\n",
       "      <th>3</th>\n",
       "      <td>3</td>\n",
       "      <td>which food not emulsifiers</td>\n",
       "      <td>what foods fibre</td>\n",
       "      <td>3738446</td>\n",
       "      <td>2245807</td>\n",
       "      <td>1</td>\n",
       "      <td>1</td>\n",
       "      <td>27</td>\n",
       "      <td>17</td>\n",
       "      <td>5</td>\n",
       "      <td>...</td>\n",
       "      <td>0.000000</td>\n",
       "      <td>0.0</td>\n",
       "      <td>0.0</td>\n",
       "      <td>1.0</td>\n",
       "      <td>3.5</td>\n",
       "      <td>0.277778</td>\n",
       "      <td>52</td>\n",
       "      <td>52</td>\n",
       "      <td>52</td>\n",
       "      <td>53</td>\n",
       "    </tr>\n",
       "    <tr>\n",
       "      <th>4</th>\n",
       "      <td>4</td>\n",
       "      <td>how aberystwyth start reading</td>\n",
       "      <td>how their can i start reading</td>\n",
       "      <td>4059625</td>\n",
       "      <td>320692</td>\n",
       "      <td>1</td>\n",
       "      <td>1</td>\n",
       "      <td>30</td>\n",
       "      <td>30</td>\n",
       "      <td>5</td>\n",
       "      <td>...</td>\n",
       "      <td>0.499992</td>\n",
       "      <td>1.0</td>\n",
       "      <td>1.0</td>\n",
       "      <td>2.0</td>\n",
       "      <td>5.0</td>\n",
       "      <td>0.483871</td>\n",
       "      <td>74</td>\n",
       "      <td>66</td>\n",
       "      <td>69</td>\n",
       "      <td>70</td>\n",
       "    </tr>\n",
       "  </tbody>\n",
       "</table>\n",
       "<p>5 rows × 31 columns</p>\n",
       "</div>"
      ],
      "text/plain": [
       "  test_id                                          question1  \\\n",
       "0       0  how does the surface pro himself 4 compare wit...   \n",
       "1       1  should i have a hair transplant at age 24 how ...   \n",
       "2       2  what but is the best way to send money from ch...   \n",
       "3       3                        which food not emulsifiers    \n",
       "4       4                     how aberystwyth start reading    \n",
       "\n",
       "                                           question2     qid1     qid2  \\\n",
       "0  why did microsoft choose core m3 and not core ...  2447329  3861609   \n",
       "1        how much cost does hair transplant require   2686201  2627256   \n",
       "2                      what you send money to china   3479610  3169183   \n",
       "3                                  what foods fibre   3738446  2245807   \n",
       "4                     how their can i start reading   4059625   320692   \n",
       "\n",
       "   freq_qid1  freq_qid2  q1len  q2len  q1_n_words  ...   ctc_max  \\\n",
       "0          1          1     57     68          12  ...  0.214284   \n",
       "1          1          1     65     43          15  ...  0.357140   \n",
       "2          1          1     60     29          15  ...  0.357140   \n",
       "3          1          1     27     17           5  ...  0.000000   \n",
       "4          1          1     30     30           5  ...  0.499992   \n",
       "\n",
       "   last_word_eq  first_word_eq  abs_len_diff  mean_len  longest_substr_ratio  \\\n",
       "0           0.0            0.0           3.0      12.5              0.241379   \n",
       "1           0.0            0.0           7.0      10.5              0.386364   \n",
       "2           0.0            1.0           8.0      10.0              0.400000   \n",
       "3           0.0            0.0           1.0       3.5              0.277778   \n",
       "4           1.0            1.0           2.0       5.0              0.483871   \n",
       "\n",
       "   token_set_ratio  token_sort_ratio  fuzz_ratio  fuzz_partial_ratio  \n",
       "0               58                55          46                  46  \n",
       "1               82                58          49                  58  \n",
       "2               92                55          60                  83  \n",
       "3               52                52          52                  53  \n",
       "4               74                66          69                  70  \n",
       "\n",
       "[5 rows x 31 columns]"
      ]
     },
     "execution_count": 21,
     "metadata": {},
     "output_type": "execute_result"
    }
   ],
   "source": [
    "test[:5]"
   ]
  },
  {
   "cell_type": "code",
   "execution_count": 22,
   "metadata": {},
   "outputs": [],
   "source": [
    "from utils.features import glove_wmd, jaccard, min_max_scalling"
   ]
  },
  {
   "cell_type": "markdown",
   "metadata": {},
   "source": [
    "**Sources:**\n",
    "\n",
    "* [WMD Tutorial](https://github.com/RaRe-Technologies/gensim/blob/develop/docs/notebooks/WMD_tutorial.ipynb)\n",
    "* [WMD](https://tedboy.github.io/nlps/generated/generated/gensim.models.Word2Vec.wmdistance.html)\n",
    " \n",
    "***Word Mover’s Distance between two documents***"
   ]
  },
  {
   "cell_type": "markdown",
   "metadata": {},
   "source": [
    "**Differences between Jaccard Similarity and Cosine Similarity:**\n",
    "* Jaccard similarity takes only unique set of words for each sentence / document while cosine similarity takes total length of the vectors. (these vectors could be made from bag of words term frequency or tf-idf)\n",
    "* This means that if you repeat the word “friend” in Sentence 1 several times, cosine similarity changes but Jaccard similarity does not. For ex, if the word “friend” is repeated in the first sentence 50 times, cosine similarity drops to 0.4 but Jaccard similarity remains at 0.5.\n",
    "* Jaccard similarity is good for cases where duplication does not matter, cosine similarity is good for cases where duplication matters while analyzing text similarity. For two product descriptions, it will be better to use Jaccard similarity as repetition of a word does not reduce their similarity."
   ]
  },
  {
   "cell_type": "code",
   "execution_count": 23,
   "metadata": {},
   "outputs": [
    {
     "name": "stdout",
     "output_type": "stream",
     "text": [
      "CPU times: user 5min 41s, sys: 2.85 s, total: 5min 44s\n",
      "Wall time: 5min 46s\n"
     ]
    }
   ],
   "source": [
    "%%time\n",
    "train = glove_wmd(df=train)"
   ]
  },
  {
   "cell_type": "code",
   "execution_count": 24,
   "metadata": {},
   "outputs": [
    {
     "name": "stdout",
     "output_type": "stream",
     "text": [
      "CPU times: user 45min 11s, sys: 13.5 s, total: 45min 24s\n",
      "Wall time: 45min 28s\n"
     ]
    }
   ],
   "source": [
    "%%time\n",
    "test = glove_wmd(df=test)"
   ]
  },
  {
   "cell_type": "code",
   "execution_count": 25,
   "metadata": {},
   "outputs": [
    {
     "name": "stdout",
     "output_type": "stream",
     "text": [
      "CPU times: user 12.3 s, sys: 203 ms, total: 12.5 s\n",
      "Wall time: 12.5 s\n"
     ]
    }
   ],
   "source": [
    "%%time\n",
    "train = jaccard(df=train)"
   ]
  },
  {
   "cell_type": "code",
   "execution_count": 26,
   "metadata": {},
   "outputs": [
    {
     "name": "stdout",
     "output_type": "stream",
     "text": [
      "CPU times: user 1min 45s, sys: 2.17 s, total: 1min 47s\n",
      "Wall time: 1min 47s\n"
     ]
    }
   ],
   "source": [
    "%%time\n",
    "test = jaccard(df=test)"
   ]
  },
  {
   "cell_type": "code",
   "execution_count": 27,
   "metadata": {},
   "outputs": [],
   "source": [
    "to_be_scaled = [\n",
    "    'freq_q1+q2',\n",
    "    'freq_q1-q2',\n",
    "    'freq_qid1',\n",
    "    'freq_qid2',\n",
    "    'q1_n_words',\n",
    "    'q2_n_words',\n",
    "    'word_Common',\n",
    "    'word_Total',\n",
    "    'last_word_eq',\n",
    "    'first_word_eq',\n",
    "    'abs_len_diff',\n",
    "    'mean_len',\n",
    "    'q1len',\n",
    "    'q2len',\n",
    "    'fuzz_partial_ratio',\n",
    "    'token_set_ratio',\n",
    "    'token_sort_ratio',\n",
    "    'fuzz_ratio',\n",
    "]"
   ]
  },
  {
   "cell_type": "code",
   "execution_count": 28,
   "metadata": {},
   "outputs": [
    {
     "name": "stdout",
     "output_type": "stream",
     "text": [
      "CPU times: user 1.1 s, sys: 164 ms, total: 1.26 s\n",
      "Wall time: 1.26 s\n"
     ]
    }
   ],
   "source": [
    "%%time\n",
    "train = min_max_scalling(df=train,columns=to_be_scaled)"
   ]
  },
  {
   "cell_type": "code",
   "execution_count": 29,
   "metadata": {},
   "outputs": [
    {
     "name": "stdout",
     "output_type": "stream",
     "text": [
      "CPU times: user 8.85 s, sys: 2.45 s, total: 11.3 s\n",
      "Wall time: 11.3 s\n"
     ]
    }
   ],
   "source": [
    "%%time\n",
    "test = min_max_scalling(df=test,columns=to_be_scaled)"
   ]
  },
  {
   "cell_type": "code",
   "execution_count": 30,
   "metadata": {},
   "outputs": [
    {
     "data": {
      "text/html": [
       "<div>\n",
       "<style scoped>\n",
       "    .dataframe tbody tr th:only-of-type {\n",
       "        vertical-align: middle;\n",
       "    }\n",
       "\n",
       "    .dataframe tbody tr th {\n",
       "        vertical-align: top;\n",
       "    }\n",
       "\n",
       "    .dataframe thead th {\n",
       "        text-align: right;\n",
       "    }\n",
       "</style>\n",
       "<table border=\"1\" class=\"dataframe\">\n",
       "  <thead>\n",
       "    <tr style=\"text-align: right;\">\n",
       "      <th></th>\n",
       "      <th>id</th>\n",
       "      <th>qid1</th>\n",
       "      <th>qid2</th>\n",
       "      <th>question1</th>\n",
       "      <th>question2</th>\n",
       "      <th>is_duplicate</th>\n",
       "      <th>freq_qid1</th>\n",
       "      <th>freq_qid2</th>\n",
       "      <th>q1len</th>\n",
       "      <th>q2len</th>\n",
       "      <th>...</th>\n",
       "      <th>first_word_eq</th>\n",
       "      <th>abs_len_diff</th>\n",
       "      <th>mean_len</th>\n",
       "      <th>longest_substr_ratio</th>\n",
       "      <th>token_set_ratio</th>\n",
       "      <th>token_sort_ratio</th>\n",
       "      <th>fuzz_ratio</th>\n",
       "      <th>fuzz_partial_ratio</th>\n",
       "      <th>wmd</th>\n",
       "      <th>jaccard</th>\n",
       "    </tr>\n",
       "  </thead>\n",
       "  <tbody>\n",
       "    <tr>\n",
       "      <th>0</th>\n",
       "      <td>0</td>\n",
       "      <td>1</td>\n",
       "      <td>2</td>\n",
       "      <td>what is the step by step guide to invest in sh...</td>\n",
       "      <td>what is the step by step guide to invest in sh...</td>\n",
       "      <td>0</td>\n",
       "      <td>0.000000</td>\n",
       "      <td>0.0</td>\n",
       "      <td>0.107084</td>\n",
       "      <td>0.049209</td>\n",
       "      <td>...</td>\n",
       "      <td>1.0</td>\n",
       "      <td>0.008772</td>\n",
       "      <td>0.093863</td>\n",
       "      <td>0.982759</td>\n",
       "      <td>1.00</td>\n",
       "      <td>0.93</td>\n",
       "      <td>0.93</td>\n",
       "      <td>1.00</td>\n",
       "      <td>0.147856</td>\n",
       "      <td>0.916667</td>\n",
       "    </tr>\n",
       "    <tr>\n",
       "      <th>1</th>\n",
       "      <td>1</td>\n",
       "      <td>3</td>\n",
       "      <td>4</td>\n",
       "      <td>what is the story of kohinoor koh - i - noor d...</td>\n",
       "      <td>what would happen if the indian government sto...</td>\n",
       "      <td>0</td>\n",
       "      <td>0.061224</td>\n",
       "      <td>0.0</td>\n",
       "      <td>0.085667</td>\n",
       "      <td>0.078207</td>\n",
       "      <td>...</td>\n",
       "      <td>1.0</td>\n",
       "      <td>0.021930</td>\n",
       "      <td>0.104693</td>\n",
       "      <td>0.611111</td>\n",
       "      <td>0.86</td>\n",
       "      <td>0.63</td>\n",
       "      <td>0.67</td>\n",
       "      <td>0.75</td>\n",
       "      <td>0.554370</td>\n",
       "      <td>0.444444</td>\n",
       "    </tr>\n",
       "    <tr>\n",
       "      <th>2</th>\n",
       "      <td>2</td>\n",
       "      <td>5</td>\n",
       "      <td>6</td>\n",
       "      <td>how can i increase the speed of my internet co...</td>\n",
       "      <td>how can internet speed be increased by hacking...</td>\n",
       "      <td>0</td>\n",
       "      <td>0.000000</td>\n",
       "      <td>0.0</td>\n",
       "      <td>0.118616</td>\n",
       "      <td>0.050967</td>\n",
       "      <td>...</td>\n",
       "      <td>1.0</td>\n",
       "      <td>0.017544</td>\n",
       "      <td>0.086643</td>\n",
       "      <td>0.166667</td>\n",
       "      <td>0.66</td>\n",
       "      <td>0.66</td>\n",
       "      <td>0.54</td>\n",
       "      <td>0.54</td>\n",
       "      <td>0.562440</td>\n",
       "      <td>0.200000</td>\n",
       "    </tr>\n",
       "    <tr>\n",
       "      <th>3</th>\n",
       "      <td>3</td>\n",
       "      <td>7</td>\n",
       "      <td>8</td>\n",
       "      <td>why am i mentally very lonely how can i solve it</td>\n",
       "      <td>find the remainder when math 23 ^ 24 math is d...</td>\n",
       "      <td>0</td>\n",
       "      <td>0.000000</td>\n",
       "      <td>0.0</td>\n",
       "      <td>0.079077</td>\n",
       "      <td>0.053603</td>\n",
       "      <td>...</td>\n",
       "      <td>0.0</td>\n",
       "      <td>0.013158</td>\n",
       "      <td>0.090253</td>\n",
       "      <td>0.040000</td>\n",
       "      <td>0.36</td>\n",
       "      <td>0.36</td>\n",
       "      <td>0.35</td>\n",
       "      <td>0.39</td>\n",
       "      <td>1.184910</td>\n",
       "      <td>0.000000</td>\n",
       "    </tr>\n",
       "    <tr>\n",
       "      <th>4</th>\n",
       "      <td>4</td>\n",
       "      <td>9</td>\n",
       "      <td>10</td>\n",
       "      <td>which one dissolve in water quikly sugar salt ...</td>\n",
       "      <td>which fish would survive in salt water</td>\n",
       "      <td>0</td>\n",
       "      <td>0.040816</td>\n",
       "      <td>0.0</td>\n",
       "      <td>0.120264</td>\n",
       "      <td>0.033392</td>\n",
       "      <td>...</td>\n",
       "      <td>1.0</td>\n",
       "      <td>0.026316</td>\n",
       "      <td>0.072202</td>\n",
       "      <td>0.175000</td>\n",
       "      <td>0.67</td>\n",
       "      <td>0.47</td>\n",
       "      <td>0.45</td>\n",
       "      <td>0.56</td>\n",
       "      <td>0.795780</td>\n",
       "      <td>0.250000</td>\n",
       "    </tr>\n",
       "  </tbody>\n",
       "</table>\n",
       "<p>5 rows × 34 columns</p>\n",
       "</div>"
      ],
      "text/plain": [
       "   id  qid1  qid2                                          question1  \\\n",
       "0   0     1     2  what is the step by step guide to invest in sh...   \n",
       "1   1     3     4  what is the story of kohinoor koh - i - noor d...   \n",
       "2   2     5     6  how can i increase the speed of my internet co...   \n",
       "3   3     7     8  why am i mentally very lonely how can i solve it    \n",
       "4   4     9    10  which one dissolve in water quikly sugar salt ...   \n",
       "\n",
       "                                           question2  is_duplicate  freq_qid1  \\\n",
       "0  what is the step by step guide to invest in sh...             0   0.000000   \n",
       "1  what would happen if the indian government sto...             0   0.061224   \n",
       "2  how can internet speed be increased by hacking...             0   0.000000   \n",
       "3  find the remainder when math 23 ^ 24 math is d...             0   0.000000   \n",
       "4            which fish would survive in salt water              0   0.040816   \n",
       "\n",
       "   freq_qid2     q1len     q2len  ...  first_word_eq  abs_len_diff  mean_len  \\\n",
       "0        0.0  0.107084  0.049209  ...            1.0      0.008772  0.093863   \n",
       "1        0.0  0.085667  0.078207  ...            1.0      0.021930  0.104693   \n",
       "2        0.0  0.118616  0.050967  ...            1.0      0.017544  0.086643   \n",
       "3        0.0  0.079077  0.053603  ...            0.0      0.013158  0.090253   \n",
       "4        0.0  0.120264  0.033392  ...            1.0      0.026316  0.072202   \n",
       "\n",
       "   longest_substr_ratio  token_set_ratio  token_sort_ratio  fuzz_ratio  \\\n",
       "0              0.982759             1.00              0.93        0.93   \n",
       "1              0.611111             0.86              0.63        0.67   \n",
       "2              0.166667             0.66              0.66        0.54   \n",
       "3              0.040000             0.36              0.36        0.35   \n",
       "4              0.175000             0.67              0.47        0.45   \n",
       "\n",
       "   fuzz_partial_ratio       wmd   jaccard  \n",
       "0                1.00  0.147856  0.916667  \n",
       "1                0.75  0.554370  0.444444  \n",
       "2                0.54  0.562440  0.200000  \n",
       "3                0.39  1.184910  0.000000  \n",
       "4                0.56  0.795780  0.250000  \n",
       "\n",
       "[5 rows x 34 columns]"
      ]
     },
     "execution_count": 30,
     "metadata": {},
     "output_type": "execute_result"
    }
   ],
   "source": [
    "train[:5]"
   ]
  },
  {
   "cell_type": "code",
   "execution_count": 39,
   "metadata": {},
   "outputs": [],
   "source": [
    "train.to_csv('data/train_clean.csv',index=False)"
   ]
  },
  {
   "cell_type": "code",
   "execution_count": 40,
   "metadata": {},
   "outputs": [],
   "source": [
    "test.to_csv('data/test_clean.csv',index=False)"
   ]
  },
  {
   "cell_type": "code",
   "execution_count": 31,
   "metadata": {},
   "outputs": [
    {
     "data": {
      "text/plain": [
       "['freq_qid1',\n",
       " 'freq_qid2',\n",
       " 'q1len',\n",
       " 'q2len',\n",
       " 'q1_n_words',\n",
       " 'q2_n_words',\n",
       " 'word_Common',\n",
       " 'word_Total',\n",
       " 'word_share',\n",
       " 'freq_q1+q2',\n",
       " 'freq_q1-q2',\n",
       " 'cwc_min',\n",
       " 'cwc_max',\n",
       " 'csc_min',\n",
       " 'csc_max',\n",
       " 'ctc_min',\n",
       " 'ctc_max',\n",
       " 'last_word_eq',\n",
       " 'first_word_eq',\n",
       " 'abs_len_diff',\n",
       " 'mean_len',\n",
       " 'longest_substr_ratio',\n",
       " 'token_set_ratio',\n",
       " 'token_sort_ratio',\n",
       " 'fuzz_ratio',\n",
       " 'fuzz_partial_ratio',\n",
       " 'wmd',\n",
       " 'jaccard']"
      ]
     },
     "execution_count": 31,
     "metadata": {},
     "output_type": "execute_result"
    }
   ],
   "source": [
    "features_list = train.columns.tolist()[6:]\n",
    "features_list"
   ]
  },
  {
   "cell_type": "code",
   "execution_count": 32,
   "metadata": {},
   "outputs": [],
   "source": [
    "from sklearn.model_selection import train_test_split"
   ]
  },
  {
   "cell_type": "code",
   "execution_count": 33,
   "metadata": {},
   "outputs": [],
   "source": [
    "X_train, X_test, y_train, y_test = train_test_split(train[features_list], train['is_duplicate'], test_size=0.33, random_state=42,stratify=train['is_duplicate'])"
   ]
  },
  {
   "cell_type": "code",
   "execution_count": 34,
   "metadata": {},
   "outputs": [
    {
     "name": "stdout",
     "output_type": "stream",
     "text": [
      "[0]\ttrain-logloss:0.68448\ttest-logloss:0.68478\n",
      "Multiple eval metrics have been passed: 'test-logloss' will be used for early stopping.\n",
      "\n",
      "Will train until test-logloss hasn't improved in 50 rounds.\n",
      "[10]\ttrain-logloss:0.61607\ttest-logloss:0.61606\n",
      "[20]\ttrain-logloss:0.56617\ttest-logloss:0.56602\n",
      "[30]\ttrain-logloss:0.52820\ttest-logloss:0.52830\n",
      "[40]\ttrain-logloss:0.49920\ttest-logloss:0.49921\n",
      "[50]\ttrain-logloss:0.47696\ttest-logloss:0.47686\n",
      "[60]\ttrain-logloss:0.45919\ttest-logloss:0.45914\n",
      "[70]\ttrain-logloss:0.44477\ttest-logloss:0.44510\n",
      "[80]\ttrain-logloss:0.43323\ttest-logloss:0.43351\n",
      "[90]\ttrain-logloss:0.42371\ttest-logloss:0.42430\n",
      "[100]\ttrain-logloss:0.41608\ttest-logloss:0.41673\n",
      "[110]\ttrain-logloss:0.40958\ttest-logloss:0.41046\n",
      "[120]\ttrain-logloss:0.40434\ttest-logloss:0.40521\n",
      "[130]\ttrain-logloss:0.39994\ttest-logloss:0.40085\n",
      "[140]\ttrain-logloss:0.39614\ttest-logloss:0.39720\n",
      "[150]\ttrain-logloss:0.39282\ttest-logloss:0.39404\n",
      "[160]\ttrain-logloss:0.39020\ttest-logloss:0.39132\n",
      "[170]\ttrain-logloss:0.38760\ttest-logloss:0.38886\n",
      "[180]\ttrain-logloss:0.38545\ttest-logloss:0.38678\n",
      "[190]\ttrain-logloss:0.38354\ttest-logloss:0.38476\n",
      "[200]\ttrain-logloss:0.38129\ttest-logloss:0.38286\n",
      "[210]\ttrain-logloss:0.37975\ttest-logloss:0.38133\n",
      "[220]\ttrain-logloss:0.37821\ttest-logloss:0.37985\n",
      "[230]\ttrain-logloss:0.37688\ttest-logloss:0.37859\n",
      "[240]\ttrain-logloss:0.37564\ttest-logloss:0.37740\n",
      "[250]\ttrain-logloss:0.37440\ttest-logloss:0.37637\n",
      "[260]\ttrain-logloss:0.37329\ttest-logloss:0.37539\n",
      "[270]\ttrain-logloss:0.37211\ttest-logloss:0.37429\n",
      "[280]\ttrain-logloss:0.37100\ttest-logloss:0.37328\n",
      "[290]\ttrain-logloss:0.37004\ttest-logloss:0.37238\n",
      "[300]\ttrain-logloss:0.36892\ttest-logloss:0.37133\n",
      "[310]\ttrain-logloss:0.36809\ttest-logloss:0.37056\n",
      "[320]\ttrain-logloss:0.36720\ttest-logloss:0.36977\n",
      "[330]\ttrain-logloss:0.36638\ttest-logloss:0.36904\n",
      "[340]\ttrain-logloss:0.36567\ttest-logloss:0.36841\n",
      "[350]\ttrain-logloss:0.36502\ttest-logloss:0.36782\n",
      "[360]\ttrain-logloss:0.36436\ttest-logloss:0.36720\n",
      "[370]\ttrain-logloss:0.36373\ttest-logloss:0.36662\n",
      "[380]\ttrain-logloss:0.36316\ttest-logloss:0.36612\n",
      "[390]\ttrain-logloss:0.36260\ttest-logloss:0.36561\n",
      "[399]\ttrain-logloss:0.36193\ttest-logloss:0.36499\n"
     ]
    }
   ],
   "source": [
    "import xgboost as xgb\n",
    "\n",
    "# Set our parameters for xgboost\n",
    "params = {\n",
    "    'objective': 'binary:logistic',\n",
    "    'eval_metric': 'logloss',\n",
    "    'eta': 0.02,\n",
    "    'max_depth': 4,\n",
    "    }\n",
    "\n",
    "d_train = xgb.DMatrix(X_train, label=y_train)\n",
    "d_test = xgb.DMatrix(X_test, label=y_test)\n",
    "\n",
    "watchlist = [(d_train, 'train'), (d_test, 'test')]\n",
    "\n",
    "model = xgb.train(params, d_train, 400, watchlist, early_stopping_rounds=50, verbose_eval=10)"
   ]
  },
  {
   "cell_type": "code",
   "execution_count": 75,
   "metadata": {},
   "outputs": [
    {
     "data": {
      "image/png": "[encoded data removed]",
      "text/plain": [
       "<Figure size 3600x7200 with 1 Axes>"
      ]
     },
     "metadata": {
      "needs_background": "light"
     },
     "output_type": "display_data"
    }
   ],
   "source": [
    "xgb.plot_tree(model,num_trees=0)\n",
    "plt.rcParams['figure.figsize'] = [50, 50]\n",
    "plt.show()"
   ]
  },
  {
   "cell_type": "code",
   "execution_count": 77,
   "metadata": {},
   "outputs": [
    {
     "data": {
      "image/png": "[encoded data removed]",
      "text/plain": [
       "<Figure size 720x720 with 1 Axes>"
      ]
     },
     "metadata": {
      "needs_background": "light"
     },
     "output_type": "display_data"
    }
   ],
   "source": [
    "xgb.plot_importance(model)\n",
    "plt.rcParams['figure.figsize'] = [10, 10]\n",
    "plt.rcParams.update({'font.size': 17})\n",
    "plt.show()"
   ]
  },
  {
   "cell_type": "code",
   "execution_count": 37,
   "metadata": {},
   "outputs": [],
   "source": [
    "from sklearn.metrics import classification_report\n",
    "from sklearn.metrics import accuracy_score"
   ]
  },
  {
   "cell_type": "code",
   "execution_count": 38,
   "metadata": {},
   "outputs": [
    {
     "data": {
      "text/plain": [
       "XGBClassifier(base_score=0.5, booster=None, colsample_bylevel=1,\n",
       "              colsample_bynode=1, colsample_bytree=1, gamma=0, gpu_id=-1,\n",
       "              importance_type='gain', interaction_constraints=None,\n",
       "              learning_rate=0.300000012, max_delta_step=0, max_depth=6,\n",
       "              min_child_weight=1, missing=nan, monotone_constraints=None,\n",
       "              n_estimators=100, n_jobs=0, num_parallel_tree=1,\n",
       "              objective='binary:logistic', random_state=0, reg_alpha=0,\n",
       "              reg_lambda=1, scale_pos_weight=1, subsample=1, tree_method=None,\n",
       "              validate_parameters=False, verbosity=None)"
      ]
     },
     "execution_count": 38,
     "metadata": {},
     "output_type": "execute_result"
    }
   ],
   "source": [
    "clf = xgb.XGBClassifier()\n",
    "clf.fit(X_train, y_train)"
   ]
  },
  {
   "cell_type": "markdown",
   "metadata": {},
   "source": [
    "#### Benchmark:\n",
    "\n",
    "100k Dataset\n",
    "* 78% without MinMaxScaler\n",
    "* 81% with MinMaxScaler\n",
    "\n",
    "\n",
    "400k Dataset\n",
    "* 83% with MinMaxScaler -> probably this might have worked the same with 150-200k rows\n"
   ]
  },
  {
   "cell_type": "code",
   "execution_count": 42,
   "metadata": {},
   "outputs": [
    {
     "name": "stdout",
     "output_type": "stream",
     "text": [
      "              precision    recall  f1-score   support\n",
      "\n",
      "           0       0.85      0.88      0.87     84158\n",
      "           1       0.79      0.74      0.76     49257\n",
      "\n",
      "    accuracy                           0.83    133415\n",
      "   macro avg       0.82      0.81      0.82    133415\n",
      "weighted avg       0.83      0.83      0.83    133415\n",
      "\n"
     ]
    }
   ],
   "source": [
    "print(classification_report(y_test, clf.predict(X_test)))"
   ]
  },
  {
   "cell_type": "markdown",
   "metadata": {},
   "source": [
    "If you have an AMD Graphic Card but still want to work with neural nets and Keras you might want to use [PlaidML](https://github.com/plaidml/plaidml), think abuot it like CUDA for AMD ( Doesn't work for RNN )"
   ]
  },
  {
   "cell_type": "markdown",
   "metadata": {},
   "source": [
    "**Sources:**\n",
    "* [Detecting duplicate questions on Quora- beating Stanford's accuracy](https://medium.com/data-science-101/detecting-duplicate-questions-on-quora-beating-stanfords-accuracy-6f18b3634d06)\n",
    "* [Original Notebook](https://colab.research.google.com/drive/1M95Ccrf0lhzyModrMQWQZoho8h-OngSy#scrollTo=SO2GRdB6CVDf)\n",
    "* [Identifying duplicate questions on Quora | Top 12% on Kaggle!](https://towardsdatascience.com/identifying-duplicate-questions-on-quora-top-12-on-kaggle-4c1cf93f1c30)\n",
    "* [Universal Sentence Encoder Large V5](https://aihub.cloud.google.com/u/0/p/products%2F42c1bfd4-8104-450c-a348-29b047d3691c)"
   ]
  },
  {
   "cell_type": "code",
   "execution_count": 61,
   "metadata": {},
   "outputs": [],
   "source": [
    "%%capture --no-display\n",
    "import keras.layers as layers\n",
    "from keras.models import Model\n",
    "from keras import backend as K\n",
    "import os\n",
    "os.environ[\"KERAS_BACKEND\"] = \"plaidml.keras.backend\""
   ]
  },
  {
   "cell_type": "code",
   "execution_count": 62,
   "metadata": {},
   "outputs": [],
   "source": [
    "%%capture --no-display\n",
    "import tensorflow as tf\n",
    "import tensorflow_hub as hub"
   ]
  },
  {
   "cell_type": "code",
   "execution_count": 46,
   "metadata": {},
   "outputs": [],
   "source": [
    "embed = hub.load(\"https://tfhub.dev/google/universal-sentence-encoder-large/5\")"
   ]
  },
  {
   "cell_type": "code",
   "execution_count": 63,
   "metadata": {},
   "outputs": [],
   "source": [
    "DROPOUT = 0.1\n",
    "\n",
    "def UniversalEmbedding(x):\n",
    "    return embed(tf.squeeze(tf.cast(x, tf.string)))\n",
    "\n",
    "def create_model():\n",
    "    # Taking the question1 as input and ceating a embedding for each question before feed it to neural network\n",
    "    q1 = layers.Input(shape=(1,), dtype=tf.string)\n",
    "    embedding_q1 = layers.Lambda(UniversalEmbedding, output_shape=(512,))(q1)\n",
    "    # Taking the question2 and doing the same thing mentioned above, using the lambda function\n",
    "    q2 = layers.Input(shape=(1,), dtype=tf.string)\n",
    "    embedding_q2 = layers.Lambda(UniversalEmbedding, output_shape=(512,))(q2)\n",
    "\n",
    "    # Concatenating the both input layer\n",
    "    merged = layers.concatenate([embedding_q1, embedding_q2])\n",
    "    merged = layers.Dense(200, activation='relu')(merged)\n",
    "    merged = layers.Dropout(DROPOUT)(merged)\n",
    "\n",
    "    # Normalizing the input layer,applying dense and dropout  layer for fully connected model and to avoid overfitting \n",
    "    merged = layers.BatchNormalization()(merged)\n",
    "    merged = layers.Dense(200, activation='relu')(merged)\n",
    "    merged = layers.Dropout(DROPOUT)(merged)\n",
    "\n",
    "    merged = layers.BatchNormalization()(merged)\n",
    "    merged = layers.Dense(200, activation='relu')(merged)\n",
    "    merged = layers.Dropout(DROPOUT)(merged)\n",
    "\n",
    "    merged = layers.BatchNormalization()(merged)\n",
    "    merged = layers.Dense(200, activation='relu')(merged)\n",
    "    merged = layers.Dropout(DROPOUT)(merged)\n",
    "\n",
    "    # Using the Sigmoid as the activation function and binary crossentropy for binary classifcation as 0 or 1\n",
    "    merged = layers.BatchNormalization()(merged)\n",
    "    pred = layers.Dense(2, activation='sigmoid')(merged)\n",
    "    model = Model(inputs=[q1,q2], outputs=pred)\n",
    "    model.compile(loss='binary_crossentropy', optimizer='adam', metrics=['accuracy'])\n",
    "    model.summary()\n",
    "    \n",
    "    return model"
   ]
  },
  {
   "cell_type": "code",
   "execution_count": 36,
   "metadata": {},
   "outputs": [],
   "source": [
    "from sklearn.model_selection import train_test_split"
   ]
  },
  {
   "cell_type": "code",
   "execution_count": 37,
   "metadata": {},
   "outputs": [],
   "source": [
    "X1 = train['question1']\n",
    "X2 = train['question2']\n",
    "y = train['is_duplicate']\n",
    "# Using the sklearn to split data in question1 and question2 train and test in the ration 80-20 %\n",
    "X1_train, X1_test,X2_train, X2_test, y_train, y_test = train_test_split(X1, X2, y, test_size=0.2, random_state=42)\n",
    "\n",
    "train_q1 = X1_train.tolist()\n",
    "train_q1 = np.array(train_q1, dtype=object)[:, np.newaxis]\n",
    "train_q2 = X2_train.tolist()\n",
    "train_q2 = np.array(train_q2, dtype=object)[:, np.newaxis]\n",
    "\n",
    "train_labels = np.asarray(pd.get_dummies(y_train), dtype = np.int8)\n",
    "\n",
    "test_q1 = X1_test.tolist()\n",
    "test_q1 = np.array(test_q1, dtype=object)[:, np.newaxis]\n",
    "test_q2 = X2_test.tolist()\n",
    "test_q2 = np.array(test_q2, dtype=object)[:, np.newaxis]\n",
    "\n",
    "test_labels = np.asarray(pd.get_dummies(y_test), dtype = np.int8)\n"
   ]
  },
  {
   "cell_type": "code",
   "execution_count": 64,
   "metadata": {},
   "outputs": [
    {
     "name": "stdout",
     "output_type": "stream",
     "text": [
      "__________________________________________________________________________________________________\n",
      "Layer (type)                    Output Shape         Param #     Connected to                     \n",
      "==================================================================================================\n",
      "input_11 (InputLayer)           (None, 1)            0                                            \n",
      "__________________________________________________________________________________________________\n",
      "input_12 (InputLayer)           (None, 1)            0                                            \n",
      "__________________________________________________________________________________________________\n",
      "lambda_10 (Lambda)              (None, 512)          0           input_11[0][0]                   \n",
      "__________________________________________________________________________________________________\n",
      "lambda_11 (Lambda)              (None, 512)          0           input_12[0][0]                   \n",
      "__________________________________________________________________________________________________\n",
      "concatenate_4 (Concatenate)     (None, 1024)         0           lambda_10[0][0]                  \n",
      "                                                                 lambda_11[0][0]                  \n",
      "__________________________________________________________________________________________________\n",
      "dense_12 (Dense)                (None, 200)          205000      concatenate_4[0][0]              \n",
      "__________________________________________________________________________________________________\n",
      "dropout_9 (Dropout)             (None, 200)          0           dense_12[0][0]                   \n",
      "__________________________________________________________________________________________________\n",
      "batch_normalization_9 (BatchNor (None, 200)          800         dropout_9[0][0]                  \n",
      "__________________________________________________________________________________________________\n",
      "dense_13 (Dense)                (None, 200)          40200       batch_normalization_9[0][0]      \n",
      "__________________________________________________________________________________________________\n",
      "dropout_10 (Dropout)            (None, 200)          0           dense_13[0][0]                   \n",
      "__________________________________________________________________________________________________\n",
      "batch_normalization_10 (BatchNo (None, 200)          800         dropout_10[0][0]                 \n",
      "__________________________________________________________________________________________________\n",
      "dense_14 (Dense)                (None, 200)          40200       batch_normalization_10[0][0]     \n",
      "__________________________________________________________________________________________________\n",
      "dropout_11 (Dropout)            (None, 200)          0           dense_14[0][0]                   \n",
      "__________________________________________________________________________________________________\n",
      "batch_normalization_11 (BatchNo (None, 200)          800         dropout_11[0][0]                 \n",
      "__________________________________________________________________________________________________\n",
      "dense_15 (Dense)                (None, 200)          40200       batch_normalization_11[0][0]     \n",
      "__________________________________________________________________________________________________\n",
      "dropout_12 (Dropout)            (None, 200)          0           dense_15[0][0]                   \n",
      "__________________________________________________________________________________________________\n",
      "batch_normalization_12 (BatchNo (None, 200)          800         dropout_12[0][0]                 \n",
      "__________________________________________________________________________________________________\n",
      "dense_16 (Dense)                (None, 2)            402         batch_normalization_12[0][0]     \n",
      "==================================================================================================\n",
      "Total params: 329,202\n",
      "Trainable params: 327,602\n",
      "Non-trainable params: 1,600\n",
      "__________________________________________________________________________________________________\n"
     ]
    }
   ],
   "source": [
    "nn_model = create_model()"
   ]
  },
  {
   "cell_type": "code",
   "execution_count": null,
   "metadata": {},
   "outputs": [],
   "source": [
    "from keras.callbacks import ModelCheckpoint\n",
    "\n",
    "# Creating the tensorflow session to train the model and save checkpoint after every epoch.\n",
    "with tf.Session() as session:\n",
    "    K.set_session(session)\n",
    "    session.run(tf.global_variables_initializer())\n",
    "    session.run(tf.tables_initializer())\n",
    "\n",
    "    filepath=\"models/model-{epoch:02d}-{val_acc:.2f}.hdf5\"\n",
    "    checkpoint = ModelCheckpoint(filepath, monitor='val_loss', verbose=0, save_best_only=False, save_weights_only=True, mode='auto', period=1)\n",
    "    callbacks_list = [checkpoint]\n",
    "    history = nn_model.fit([train_q1, train_q2], \n",
    "            train_labels,\n",
    "            validation_data=([test_q1, test_q2], test_labels),\n",
    "            epochs=10,\n",
    "            batch_size=512, callbacks=callbacks_list)"
   ]
  },
  {
   "cell_type": "code",
   "execution_count": 69,
   "metadata": {},
   "outputs": [
    {
     "name": "stdin",
     "output_type": "stream",
     "text": [
      "Type Question 1 here --> how are you\n",
      "Type Question 2 here --> are you alright\n"
     ]
    },
    {
     "name": "stdout",
     "output_type": "stream",
     "text": [
      "----FINAL RESULT----\n",
      "****Questions are not Similar****\n"
     ]
    }
   ],
   "source": [
    "q1 = input(\"Type Question 1 here -->\")\n",
    "q2 = input(\"Type Question 2 here -->\") \n",
    "q1 = np.array([[q1],[q1]])\n",
    "q2 = np.array([[q2],[q2]])\n",
    "# Using the same tensorflow session for embedding the test string\n",
    "with tf.Session() as session:\n",
    "    K.set_session(session)\n",
    "    session.run(tf.global_variables_initializer())\n",
    "    session.run(tf.tables_initializer())\n",
    "    # Loading the save weights\n",
    "    nn_model.load_weights('models/model-01-0.50.hdf5')  \n",
    "    # Predicting the similarity between the two input questions \n",
    "    predicts = nn_model.predict([q1, q2], verbose=0)\n",
    "    predict_logits = predicts.argmax(axis=1)\n",
    "    print(\"----FINAL RESULT----\")\n",
    "    if(predict_logits[0] == 1):\n",
    "        print(\"****Questions are Similar****\")\n",
    "    else:\n",
    "        print(\"****Questions are not Similar****\")"
   ]
  },
  {
   "cell_type": "code",
   "execution_count": null,
   "metadata": {},
   "outputs": [],
   "source": []
  },
  {
   "cell_type": "code",
   "execution_count": null,
   "metadata": {},
   "outputs": [],
   "source": []
  }
 ],
 "metadata": {
  "kernelspec": {
   "display_name": "Python 3",
   "language": "python",
   "name": "python3"
  },
  "language_info": {
   "codemirror_mode": {
    "name": "ipython",
    "version": 3
   },
   "file_extension": ".py",
   "mimetype": "text/x-python",
   "name": "python",
   "nbconvert_exporter": "python",
   "pygments_lexer": "ipython3",
   "version": "3.7.0"
  }
 },
 "nbformat": 4,
 "nbformat_minor": 4
}
